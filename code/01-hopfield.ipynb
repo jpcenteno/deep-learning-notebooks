{
 "cells": [
  {
   "cell_type": "code",
   "execution_count": 4,
   "metadata": {},
   "outputs": [],
   "source": [
    "import torch\n",
    "import numpy as np"
   ]
  },
  {
   "cell_type": "markdown",
   "metadata": {},
   "source": [
    "## The Patterns Collection\n",
    "\n",
    "We define $n$ as the number of neurons in our Hopfield Network and $p$ as the number of patterns in its memory.\n",
    "\n",
    "We define the patterns tensor $\\Xi \\in \\left\\{-1, 1 \\right\\}^{p \\times n \\times 1}$. You can think of it as a vector of column matrices $\\xi \\in \\left\\{-1, 1 \\right\\}^{n \\times 1}$.\n",
    "\n",
    "$$\n",
    "\\Xi = \\begin{bmatrix}\n",
    "    \\xi_{1} & \\xi_{2} & \\dots & \\xi_{p}\n",
    "\\end{bmatrix}\n",
    "$$"
   ]
  },
  {
   "cell_type": "code",
   "execution_count": 64,
   "metadata": {
    "scrolled": false
   },
   "outputs": [
    {
     "name": "stdout",
     "output_type": "stream",
     "text": [
      "Patterns tensor size is (pattern * (neuron * 1)):\n",
      "torch.Size([4, 8, 1])\n",
      "\n",
      "(0 ,.,.) = \n",
      "   1\n",
      "   1\n",
      "   1\n",
      "   1\n",
      "   1\n",
      "   1\n",
      "   1\n",
      "   1\n",
      "\n",
      "(1 ,.,.) = \n",
      "   1\n",
      "  -1\n",
      "   1\n",
      "  -1\n",
      "   1\n",
      "  -1\n",
      "   1\n",
      "  -1\n",
      "\n",
      "(2 ,.,.) = \n",
      "  -1\n",
      "  -1\n",
      "   1\n",
      "   1\n",
      "  -1\n",
      "  -1\n",
      "   1\n",
      "   1\n",
      "\n",
      "(3 ,.,.) = \n",
      "  -1\n",
      "  -1\n",
      "  -1\n",
      "  -1\n",
      "   1\n",
      "   1\n",
      "   1\n",
      "   1\n",
      "[torch.FloatTensor of size 4x8x1]\n",
      "\n",
      "p: 4\n",
      "n: 8\n"
     ]
    }
   ],
   "source": [
    "# The set of patterns will be stored in the XI tensor:\n",
    "# This is some toy dataset I made up.\n",
    "XI = torch.Tensor([\n",
    "    [[ 1,  1,  1,  1,  1,  1,  1,  1]],\n",
    "    [[ 1, -1,  1, -1,  1, -1,  1, -1]],\n",
    "    [[-1, -1,  1,  1, -1, -1,  1,  1]],\n",
    "    [[-1, -1, -1, -1,  1,  1,  1,  1]]\n",
    "]).transpose(1, 2)\n",
    "\n",
    "# Print the patterns\n",
    "print('Patterns tensor size is (pattern * (neuron * 1)):')\n",
    "print(XI.shape)\n",
    "print(XI)\n",
    "\n",
    "# Dimensions of our patterns set:\n",
    "p, n, _ = XI.shape\n",
    "print('p: {}'.format(p))\n",
    "print('n: {}'.format(n))"
   ]
  },
  {
   "cell_type": "markdown",
   "metadata": {},
   "source": [
    "## Training: Computing the $W$ Matrix\n",
    "The weights matrix $W \\in \\mathbb{R}^{n \\times n}$ is defined by the equation:\n",
    "\n",
    "$$\n",
    "W = \\frac{1}{N}\n",
    "    \\left (\n",
    "        \\sum_{\\mu = 1}^{p} \\xi_\\mu \\xi_\\mu^T\n",
    "        - p I_n\n",
    "    \\right )\n",
    "$$"
   ]
  },
  {
   "cell_type": "code",
   "execution_count": 73,
   "metadata": {},
   "outputs": [
    {
     "name": "stdout",
     "output_type": "stream",
     "text": [
      "The weights matrix:\n",
      "\n",
      " 0.0000  0.2500  0.2500  0.0000  0.2500  0.0000  0.0000 -0.2500\n",
      " 0.2500  0.0000  0.0000  0.2500  0.0000  0.2500 -0.2500  0.0000\n",
      " 0.2500  0.0000  0.0000  0.2500  0.0000 -0.2500  0.2500  0.0000\n",
      " 0.0000  0.2500  0.2500  0.0000 -0.2500  0.0000  0.0000  0.2500\n",
      " 0.2500  0.0000  0.0000 -0.2500  0.0000  0.2500  0.2500  0.0000\n",
      " 0.0000  0.2500 -0.2500  0.0000  0.2500  0.0000  0.0000  0.2500\n",
      " 0.0000 -0.2500  0.2500  0.0000  0.2500  0.0000  0.0000  0.2500\n",
      "-0.2500  0.0000  0.0000  0.2500  0.0000  0.2500  0.2500  0.0000\n",
      "[torch.FloatTensor of size 8x8]\n",
      "\n"
     ]
    }
   ],
   "source": [
    "# The vectorized computation of the W matrix is tricky:\n",
    "\n",
    "outer_products = torch.mul(XI, XI.transpose(1, 2))\n",
    "assert outer_products.shape == (p, n, n)\n",
    "\n",
    "outer_products_sum = torch.sum(outer_products, 0)\n",
    "assert outer_products_sum.shape == (n, n)\n",
    "\n",
    "W = (1 / n) * (outer_products_sum - p * torch.eye(n))\n",
    "assert W.shape == (n, n)\n",
    "\n",
    "\n",
    "\n",
    "print('The weights matrix:')\n",
    "print(W)"
   ]
  },
  {
   "cell_type": "code",
   "execution_count": null,
   "metadata": {},
   "outputs": [],
   "source": []
  }
 ],
 "metadata": {
  "kernelspec": {
   "display_name": "Python 3",
   "language": "python",
   "name": "python3"
  },
  "language_info": {
   "codemirror_mode": {
    "name": "ipython",
    "version": 3
   },
   "file_extension": ".py",
   "mimetype": "text/x-python",
   "name": "python",
   "nbconvert_exporter": "python",
   "pygments_lexer": "ipython3",
   "version": "3.6.3"
  }
 },
 "nbformat": 4,
 "nbformat_minor": 2
}
